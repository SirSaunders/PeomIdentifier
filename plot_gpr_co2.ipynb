{
 "cells": [
  {
   "cell_type": "code",
   "execution_count": null,
   "metadata": {
    "collapsed": false
   },
   "outputs": [],
   "source": [
    "%matplotlib inline"
   ]
  },
  {
   "cell_type": "markdown",
   "metadata": {},
   "source": [
    "\n========================================================\nGaussian process regression (GPR) on Mauna Loa CO2 data.\n========================================================\n\nThis example is based on Section 5.4.3 of \"Gaussian Processes for Machine\nLearning\" [RW2006]. It illustrates an example of complex kernel engineering and\nhyperparameter optimization using gradient ascent on the\nlog-marginal-likelihood. The data consists of the monthly average atmospheric\nCO2 concentrations (in parts per million by volume (ppmv)) collected at the\nMauna Loa Observatory in Hawaii, between 1958 and 1997. The objective is to\nmodel the CO2 concentration as a function of the time t.\n\nThe kernel is composed of several terms that are responsible for explaining\ndifferent properties of the signal:\n\n- a long term, smooth rising trend is to be explained by an RBF kernel. The\n  RBF kernel with a large length-scale enforces this component to be smooth;\n  it is not enforced that the trend is rising which leaves this choice to the\n  GP. The specific length-scale and the amplitude are free hyperparameters.\n\n- a seasonal component, which is to be explained by the periodic\n  ExpSineSquared kernel with a fixed periodicity of 1 year. The length-scale\n  of this periodic component, controlling its smoothness, is a free parameter.\n  In order to allow decaying away from exact periodicity, the product with an\n  RBF kernel is taken. The length-scale of this RBF component controls the\n  decay time and is a further free parameter.\n\n- smaller, medium term irregularities are to be explained by a\n  RationalQuadratic kernel component, whose length-scale and alpha parameter,\n  which determines the diffuseness of the length-scales, are to be determined.\n  According to [RW2006], these irregularities can better be explained by\n  a RationalQuadratic than an RBF kernel component, probably because it can\n  accommodate several length-scales.\n\n- a \"noise\" term, consisting of an RBF kernel contribution, which shall\n  explain the correlated noise components such as local weather phenomena,\n  and a WhiteKernel contribution for the white noise. The relative amplitudes\n  and the RBF's length scale are further free parameters.\n\nMaximizing the log-marginal-likelihood after subtracting the target's mean\nyields the following kernel with an LML of -83.214::\n\n   34.4**2 * RBF(length_scale=41.8)\n   + 3.27**2 * RBF(length_scale=180) * ExpSineSquared(length_scale=1.44,\n                                                      periodicity=1)\n   + 0.446**2 * RationalQuadratic(alpha=17.7, length_scale=0.957)\n   + 0.197**2 * RBF(length_scale=0.138) + WhiteKernel(noise_level=0.0336)\n\nThus, most of the target signal (34.4ppm) is explained by a long-term rising\ntrend (length-scale 41.8 years). The periodic component has an amplitude of\n3.27ppm, a decay time of 180 years and a length-scale of 1.44. The long decay\ntime indicates that we have a locally very close to periodic seasonal\ncomponent. The correlated noise has an amplitude of 0.197ppm with a length\nscale of 0.138 years and a white-noise contribution of 0.197ppm. Thus, the\noverall noise level is very small, indicating that the data can be very well\nexplained by the model. The figure shows also that the model makes very\nconfident predictions until around 2015.\n"
   ]
  },
  {
   "cell_type": "code",
   "execution_count": null,
   "metadata": {
    "collapsed": false
   },
   "outputs": [],
   "source": [
    "print(__doc__)\n",
    "\n",
    "# Authors: Jan Hendrik Metzen <jhm@informatik.uni-bremen.de>\n",
    "#\n",
    "# License: BSD 3 clause\n",
    "\n",
    "import numpy as np\n",
    "\n",
    "from matplotlib import pyplot as plt\n",
    "\n",
    "from sklearn.gaussian_process import GaussianProcessRegressor\n",
    "from sklearn.gaussian_process.kernels \\\n",
    "    import RBF, WhiteKernel, RationalQuadratic, ExpSineSquared\n",
    "from sklearn.datasets import fetch_mldata\n",
    "\n",
    "data = fetch_mldata('mauna-loa-atmospheric-co2').data\n",
    "X = data[:, [1]]\n",
    "y = data[:, 0]\n",
    "\n",
    "# Kernel with parameters given in GPML book\n",
    "k1 = 66.0**2 * RBF(length_scale=67.0)  # long term smooth rising trend\n",
    "k2 = 2.4**2 * RBF(length_scale=90.0) \\\n",
    "    * ExpSineSquared(length_scale=1.3, periodicity=1.0)  # seasonal component\n",
    "# medium term irregularity\n",
    "k3 = 0.66**2 \\\n",
    "    * RationalQuadratic(length_scale=1.2, alpha=0.78)\n",
    "k4 = 0.18**2 * RBF(length_scale=0.134) \\\n",
    "    + WhiteKernel(noise_level=0.19**2)  # noise terms\n",
    "kernel_gpml = k1 + k2 + k3 + k4\n",
    "\n",
    "gp = GaussianProcessRegressor(kernel=kernel_gpml, alpha=0,\n",
    "                              optimizer=None, normalize_y=True)\n",
    "gp.fit(X, y)\n",
    "\n",
    "print(\"GPML kernel: %s\" % gp.kernel_)\n",
    "print(\"Log-marginal-likelihood: %.3f\"\n",
    "      % gp.log_marginal_likelihood(gp.kernel_.theta))\n",
    "\n",
    "# Kernel with optimized parameters\n",
    "k1 = 50.0**2 * RBF(length_scale=50.0)  # long term smooth rising trend\n",
    "k2 = 2.0**2 * RBF(length_scale=100.0) \\\n",
    "    * ExpSineSquared(length_scale=1.0, periodicity=1.0,\n",
    "                     periodicity_bounds=\"fixed\")  # seasonal component\n",
    "# medium term irregularities\n",
    "k3 = 0.5**2 * RationalQuadratic(length_scale=1.0, alpha=1.0)\n",
    "k4 = 0.1**2 * RBF(length_scale=0.1) \\\n",
    "    + WhiteKernel(noise_level=0.1**2,\n",
    "                  noise_level_bounds=(1e-3, np.inf))  # noise terms\n",
    "kernel = k1 + k2 + k3 + k4\n",
    "\n",
    "gp = GaussianProcessRegressor(kernel=kernel, alpha=0,\n",
    "                              normalize_y=True)\n",
    "gp.fit(X, y)\n",
    "\n",
    "print(\"\\nLearned kernel: %s\" % gp.kernel_)\n",
    "print(\"Log-marginal-likelihood: %.3f\"\n",
    "      % gp.log_marginal_likelihood(gp.kernel_.theta))\n",
    "\n",
    "X_ = np.linspace(X.min(), X.max() + 30, 1000)[:, np.newaxis]\n",
    "y_pred, y_std = gp.predict(X_, return_std=True)\n",
    "\n",
    "# Illustration\n",
    "plt.scatter(X, y, c='k')\n",
    "plt.plot(X_, y_pred)\n",
    "plt.fill_between(X_[:, 0], y_pred - y_std, y_pred + y_std,\n",
    "                 alpha=0.5, color='k')\n",
    "plt.xlim(X_.min(), X_.max())\n",
    "plt.xlabel(\"Year\")\n",
    "plt.ylabel(r\"CO$_2$ in ppm\")\n",
    "plt.title(r\"Atmospheric CO$_2$ concentration at Mauna Loa\")\n",
    "plt.tight_layout()\n",
    "plt.show()"
   ]
  }
 ],
 "metadata": {
  "kernelspec": {
   "display_name": "Python 2",
   "name": "python2",
   "language": "python"
  },
  "language_info": {
   "mimetype": "text/x-python",
   "nbconvert_exporter": "python",
   "name": "python",
   "file_extension": ".py",
   "version": "2.7.13",
   "pygments_lexer": "ipython2",
   "codemirror_mode": {
    "version": 2.0,
    "name": "ipython"
   }
  }
 },
 "nbformat": 4,
 "nbformat_minor": 0
}